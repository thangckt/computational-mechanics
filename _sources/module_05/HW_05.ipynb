{
 "cells": [
  {
   "cell_type": "markdown",
   "id": "c0e264df",
   "metadata": {},
   "source": [
    "# Homework"
   ]
  },
  {
   "cell_type": "code",
   "execution_count": 1,
   "id": "bcfbb904",
   "metadata": {},
   "outputs": [],
   "source": [
    "import numpy as np\n",
    "import matplotlib.pyplot as plt\n",
    "plt.style.use('fivethirtyeight')"
   ]
  },
  {
   "cell_type": "markdown",
   "id": "baacc5f4",
   "metadata": {},
   "source": [
    "## Problems [Part 1](./01_Revisiting_derivatives.md)\n",
    "\n",
    "1. Consider the shape of a simply supported beam with a distributed load function,\n",
    "\n",
    "$w(x) = -\\frac{qx\\left(L^3-2x^2L+x^3\\right)}{24EI},$\n",
    "\n",
    "* $L=1~m$\n",
    "* $E=200e9~Pa$\n",
    "* $I=\\frac{0.01^4}{12}~m^4$\n",
    "* $q=100~N/m$\n",
    "\n",
    "__Plot the following derivatives using h=0.1m, x=0, 0.1, 0.2, ...1 m:__\n",
    "\n",
    "a. Take the first derivative of the above function using a forward, backward, and central difference method"
   ]
  },
  {
   "cell_type": "code",
   "execution_count": null,
   "id": "a5018825",
   "metadata": {},
   "outputs": [],
   "source": []
  },
  {
   "cell_type": "markdown",
   "id": "b6d51051",
   "metadata": {},
   "source": [
    "b. Take the second derivative of the above function using a forward, backward, and central difference method"
   ]
  },
  {
   "cell_type": "code",
   "execution_count": null,
   "id": "52e14b17",
   "metadata": {},
   "outputs": [],
   "source": []
  },
  {
   "cell_type": "markdown",
   "id": "a5f88675",
   "metadata": {},
   "source": [
    "c. Take the third derivative of the above function using a forward, backward, and central difference method"
   ]
  },
  {
   "cell_type": "code",
   "execution_count": null,
   "id": "5c6eb592",
   "metadata": {},
   "outputs": [],
   "source": []
  },
  {
   "cell_type": "markdown",
   "id": "f1ef04ae",
   "metadata": {},
   "source": [
    "2. Consider the temperature of a fin with conductive and convective heat transfer [analytical solution](https://en.wikipedia.org/wiki/Fin_(extended_surface)#Solutions) with x=0...60 mm connected to a $100^oC$ base surrounded by $20^oC$ air. \n",
    "\n",
    "$T(x)=20+80\\frac{\\cosh(s(L-x))+\\frac{h}{sk}\\sinh(s(L-x))}{\\cosh(sL)+\\frac{h}{sk}\\sinh(sL)}$\n",
    "\n",
    "* $s=\\sqrt{\\frac{2h}{kR}}$\n",
    "* h=100 W/m/m/K\n",
    "* k=200 W/m/K\n",
    "* R=1E-3 radius in m\n",
    "* L=60E-3  length in m\n",
    "\n",
    "\n",
    "__Plot the first derivative of $T(x)$ using h=10 mm, x=0, 10, 20, ...60 mm (values given below):__\n",
    "\n",
    "using the forward, backward, and central difference methods."
   ]
  },
  {
   "cell_type": "code",
   "execution_count": 2,
   "id": "a6c77226",
   "metadata": {},
   "outputs": [],
   "source": [
    "h=100 # W/m/m/K\n",
    "k=200 # W/m/K\n",
    "R=1E-3# radius in m\n",
    "L=60E-3# length in m\n",
    "s=np.sqrt(2*h/k/R)\n",
    "x=np.arange(0,70,10)*1e-3 # m\n",
    "T= 20+80*(np.cosh(s*L-s*x)+h/s/k*np.sinh(s*L-s*x))/(np.cosh(s*L)+h/s/k*np.sinh(s*L))"
   ]
  },
  {
   "cell_type": "code",
   "execution_count": null,
   "id": "ffdb07fa",
   "metadata": {},
   "outputs": [],
   "source": []
  },
  {
   "cell_type": "markdown",
   "id": "1efe3363",
   "metadata": {},
   "source": [
    "## Problems [Part 2](./02_Keep_it_steady.md)\n",
    "\n",
    "![Thermal fin connected to a constant temperature heat sink](../images/thermal_connect.png)\n",
    "\n",
    "1. Consider the thermal fin shown above connected to a heat sink with constant temperature. $h'=\\frac{2h}{\\kappa R}$ is the modified convective heat transfer for the fin. And your boundary conditions give us values for $T_{0}~and~T_{7}.$ You can plug in constants for forced air convection, $h=100~W/m^2K$, aluminum fin, $\\kappa=200~W/mK$, and 60-mm-long and 1-mm-radius fin, the air is room temperature, $T_{\\infty}=20^oC$, the base is $T_{base}=T_{0}=100^oC$, and the sink is $T_{sink}=25^oC$. Use the following finite difference equation to solve for the temperature along the fin and the heat flux through the fin given, \n",
    "\n",
    "$T(x=0)=100^oC,~and$\n",
    "\n",
    "$T(x=60~mm)=25^oC.$\n",
    "\n",
    "$\\frac{T_{i-1}-2T_i+T_{i+1}}{\\Delta x^2}+ h'(T_{\\infty}-T_i) = 0$\n",
    "\n",
    "a. Set up and solve the finite difference equations for $\\Delta x=10~mm$, plot the resulting temperature $T(x)$. \n",
    "\n",
    "b. Set up and solve the finite difference equations for $\\Delta x=5~mm$, plot the resulting temperature $T(x)$. \n",
    "\n",
    "c. Set up and solve the finite difference equations for $\\Delta x=1~mm$, plot the resulting temperature $T(x)$. \n",
    "\n",
    "d. Plot the heat flux through the fin, $-\\kappa \\frac{dT}{dx}$."
   ]
  },
  {
   "cell_type": "code",
   "execution_count": null,
   "id": "18bfdb04",
   "metadata": {},
   "outputs": [],
   "source": []
  },
  {
   "cell_type": "markdown",
   "id": "28913ca5",
   "metadata": {},
   "source": [
    "2. Consider the encastre beam shown in the __Static Beam deflections__ section. Use the following material and geometry (1-m steel rod 1-cm-by-1-cm) with 100 N/m load applied\n",
    "\n",
    "$EI \\frac{d^4w}{dx^4} = q.$\n",
    "\n",
    "You can approximate the function as a finite difference approximation as such,\n",
    "\n",
    "$\\frac{d^4w}{dx^4} \\approx \\frac{w(x_{i+2})−4w(x_{i+1})+6w(x_i)−4w(x_{i-1})+w(x_{i-2})}{h^4}=\\frac{q}{EI}.$\n",
    "\n",
    "* $L=1~m$\n",
    "* $E=200e9~Pa$\n",
    "* $I=\\frac{0.01^4}{12}~m^4$\n",
    "* $q=100~N/m$\n",
    "\n",
    "a. Solve for the four integration constants using the boundary conditions shown in the __Static Beam deflections__ section. $w(x)=\\frac{q_0x^4}{24}+\\frac{Ax^3}{6}+\\frac{Bx^2}{2}+Cx+D$\n",
    "\n",
    "b. Create a finite difference approximation with 10, 20, 30, and 40 segments. \n",
    "\n",
    "c. Plot the error between the maximum predicted numerical deflection (b) and the analytical deflection (a). What is the convergence rate of the finite difference approximation?"
   ]
  },
  {
   "cell_type": "code",
   "execution_count": null,
   "id": "bbce2914",
   "metadata": {},
   "outputs": [],
   "source": []
  },
  {
   "cell_type": "markdown",
   "id": "16b4235d",
   "metadata": {},
   "source": [
    "## Problems [Part 3](./03_Good_Vibrations.md)\n",
    "\n",
    "![Two masses connected to 3 springs](../images/spring_mass.png)\n",
    "\n",
    "*Two masses connected to 3 springs*\n",
    "\n",
    "1. Use the 2-DOF harmonic oscillator shown considering $m_1=m_2=0.1~kg$, $k_1=k_3=1000~N/m,$ and $k_2=500~N/m$. \n",
    "\n",
    "a. Calculate the natural frequencies and mode shapes _(eigenvectors)_.\n",
    "\n",
    "b. Plot the position of $x_1~and~x_2$ if the masses are at rest when mass 2 is given an initial velocity of 2 m/s."
   ]
  },
  {
   "cell_type": "code",
   "execution_count": null,
   "id": "06777eb4",
   "metadata": {},
   "outputs": [],
   "source": []
  },
  {
   "cell_type": "markdown",
   "id": "cfc00a34",
   "metadata": {},
   "source": [
    "2. Consider the G-string on the guitar, L=0.64 m, $\\mu=1.14~g/m,$ and T=71.81 N [1]. \n",
    "\n",
    "__Guitar string equation:__ $\\mu\\frac{\\partial^2 y}{\\partial t^2}=T\\frac{\\partial ^2 y}{\\partial x^2}$\n",
    "\n",
    "a. Calculate the first and second natural frequencies using 6, 30, 45, and 60 nodes. Plot the mode shapes to demonstrate convergence."
   ]
  },
  {
   "cell_type": "code",
   "execution_count": null,
   "id": "4ad5f1a8",
   "metadata": {},
   "outputs": [],
   "source": []
  },
  {
   "cell_type": "markdown",
   "id": "4bcf4647",
   "metadata": {},
   "source": [
    "b. Use 60 nodes to create an animation using the following initial condition, $y(x,0)=0$ and $\\dot{y}(L/2,0)=2~m/s.$ e.g. `dy[30,0]=2`."
   ]
  },
  {
   "cell_type": "code",
   "execution_count": null,
   "id": "1fb427a0",
   "metadata": {},
   "outputs": [],
   "source": []
  },
  {
   "cell_type": "markdown",
   "id": "f9151673",
   "metadata": {},
   "source": [
    "c. Use 60 nodes to create an audio display using the following initial condition, $y(x,0)=0$ and $\\dot{y}(L/2,0)=2~m/s.$ e.g. `dy[30,0]=2`."
   ]
  },
  {
   "cell_type": "code",
   "execution_count": null,
   "id": "c5e0f3b9",
   "metadata": {},
   "outputs": [],
   "source": []
  }
 ],
 "metadata": {
  "jupytext": {
   "formats": "notebooks//ipynb,md:myst",
   "text_representation": {
    "extension": ".md",
    "format_name": "myst",
    "format_version": 0.13,
    "jupytext_version": "1.10.3"
   }
  },
  "kernelspec": {
   "display_name": "Python 3",
   "language": "python",
   "name": "python3"
  },
  "language_info": {
   "codemirror_mode": {
    "name": "ipython",
    "version": 3
   },
   "file_extension": ".py",
   "mimetype": "text/x-python",
   "name": "python",
   "nbconvert_exporter": "python",
   "pygments_lexer": "ipython3",
   "version": "3.9.15"
  },
  "source_map": [
   13,
   15,
   19,
   36,
   38,
   42,
   44,
   49,
   51,
   68,
   78,
   80,
   101,
   103,
   124,
   126,
   139,
   141,
   149,
   151,
   155,
   157,
   161
  ]
 },
 "nbformat": 4,
 "nbformat_minor": 5
}