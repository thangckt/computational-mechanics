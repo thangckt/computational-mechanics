{
 "cells": [
  {
   "cell_type": "markdown",
   "id": "b00befe2",
   "metadata": {},
   "source": [
    "# Keep it Steady\n",
    "\n",
    "_Solving steady-state one-dimensional differential equations with the finite difference approximations._\n",
    "\n",
    "## Derivatives in Engineering equations\n",
    "\n",
    "This Module is focused on solving engineering problems where the governing differential equations are across space and time. The general form of these differential equations are [Partial Differential Equations (check out the 3Blue1Brown video)](https://www.youtube.com/watch?v=ly4S0oi3Yz8). A partial differential equation (PDE) relates the derivatives in space and time. The main difference between _ordinary_ and _partial_ differential equations (ODEs and PDEs) is that ODEs only have one indendent variable e.g. all derivatives are $\\frac{d^i}{dx^i}$. In PDEs, there are multiple derivatives, sometimes time and space. These equations come up in a number of engineering applications e.g. \n",
    "\n",
    "* [Conductive heat transfer](https://en.wikipedia.org/wiki/Heat_equation) $q(x,y,t)+\\rho C_{p}\\frac{\\partial T}{\\partial t} = -\\kappa \\nabla^2T$\n",
    "* [Kirchoff plate mechanics](https://en.wikipedia.org/wiki/Kirchhoff%E2%80%93Love_plate_theory) $D\\nabla^2 \\nabla^2 w(x,y) = -q(x,y,t)-2\\rho h \\frac{\\partial w^2}{\\partial t^2}$\n",
    "* [Euler Beam mechanics](https://en.wikipedia.org/wiki/Euler%E2%80%93Bernoulli_beam_theory) $EI \\frac{\\partial^4 w}{\\partial x^4} = -\\mu \\frac{\\partial^2 w}{\\partial t^2}+q(x,t)$\n",
    "* [Elastica Buckling equation](https://www.continuummechanics.org/columnbuckling.html) $EI\\frac{d^2y}{dx^2}=-Py$\n",
    "* ...\n",
    "\n",
    "### Discussion\n",
    "\n",
    "What other PDE equations describe engineering problems?\n",
    "\n",
    "## One dimensional, steady-state differential equations\n",
    "\n",
    "You can start your discussion of these differential equations with the steady-state solutions along one axis. These analyses include static deflection and buckling of beams and steady-state temperature through a pipe or heat fin. \n",
    "\n",
    "1. Steady-state Temperature: $-\\kappa A \\frac{d^2T}{dx^2}=Q(x)$\n",
    "\n",
    "2. Static beam deflection: $EI \\frac{\\partial^4 w}{\\partial x^4} = q(x)$\n",
    "\n",
    "### Temperature in a fin meant to remove heat to enviroment\n",
    "\n",
    "<!-- <img src=\"../images/thermal_fin.png\" style=\"width: 500px;\"/>  -->\n",
    "<img\n",
    "src=\"https://github.com/cooperrc/computational-mechanics/blob/master/images/thermal_fin.png?raw=true\" style=\"width: 500px;\"/> \n",
    "\n",
    "Consider the heat fin shown above, a hot substrate is at temperature $T_{base}$ and you want to remove heat with a cylindrical fin that is connected to the substrate. You know the base of the fin is the same temperature as the substrate, $T(x=0)=T_{0}=T_{base}$, but you do not know the heat flux into the fin, $\\frac{dT}{dx}(0)=??$. We also do not know the temperature at the end of the fin, $T(L)=??$. So you could use your first [shooting method](https://github.uconn.edu/rcc02007/CompMech03-IVPs/blob/master/notebooks/04_Getting_to_the_root.ipynb), but you also have a new approach. We use our new knowledge of [Linear Algebra](https://github.uconn.edu/rcc02007/CompMech04-LinearAlgebra) and [finite differences](./01_Revisiting_derivatives.ipynb) to create a linear system of equations. \n",
    "\n",
    "Here is what you do know:\n",
    "\n",
    "__Equations:__\n",
    "\n",
    "$\\frac{d^2T}{dx^2} \\approx \\frac{T_{i-1}-2T_{i}+T_{i+1}}{\\Delta x^2}$\n",
    "\n",
    "$-\\kappa \\pi R^2 \\frac{T_{i-1}-2T_{i}+T_{i+1}}{\\Delta x^2} = h2\\pi R (T_{i}-T_{\\infty})$\n",
    "\n",
    "where , R is the radius of the cylinderical fin, $\\Delta x$ is the step size, $\\kappa$ is the conductive heat transfer of the fin, $h$ is the convective heat transfer between the fin and the environment. \n",
    "\n",
    "__Boundary Conditions:__\n",
    "\n",
    "The base of the fin is the same temperature as the base, $T(x=0) = T_{base}=T_{0}.$\n",
    "\n",
    "The tip of the fin has the same convective heat transfer as the rest of the fin, so the energy conducted to the tip has to be removed through convection, $hA(T(L)-T_{\\infty})=-\\kappa A\\frac{dT}{dx} \\rightarrow h(T_{6}-T_{\\infty})=-\\kappa \\frac{T_{7}-T_{5}}{\\Delta x}.$ \n",
    "\n",
    "1. $T_{0} = T_{base}$\n",
    "\n",
    "2. $T_7=\\frac{-h\\Delta x}{k}(T_{6}-T_{\\infty})+T_5$\n",
    "\n",
    "If you divide the fin into 6 equally spaced sections, you have 6 equations with 6 unknown temperatures based upon finite difference equations as such,\n",
    "\n",
    "1. $T_0-2T_1+T_2+\\Delta x^2 h'(T_{\\infty}-T_1) = 0$\n",
    "\n",
    "2. $T_1-2T_2+T_3+\\Delta x^2 h'(T_{\\infty}-T_2) = 0$\n",
    "\n",
    "3. $T_2-2T_3+T_3+\\Delta x^2 h'(T_{\\infty}-T_3) = 0$\n",
    "\n",
    "4. $T_3-2T_4+T_4+\\Delta x^2 h'(T_{\\infty}-T_4) = 0$\n",
    "\n",
    "5. $T_4-2T_5+T_5+\\Delta x^2 h'(T_{\\infty}-T_5) = 0$\n",
    "\n",
    "6. $T_5-2T_6+T_7+\\Delta x^2 h'(T_{\\infty}-T_6) = 0 \\leftarrow T_7 = \\frac{-h\\Delta x}{k}(T_{6}-T_{\\infty})+T_5$\n",
    "\n",
    "where $h'=\\frac{2h}{\\kappa R}$ is the modified convective heat transfer for the fin. And your boundary conditions give us values for $T_{0}~and~T_{7}.$ You can plug in constants for forced air convection, $h=100~W/m^2K$, aluminum fin, $\\kappa=200~W/mK$, and 60-mm-long and 1-mm-radius fin, the air is room temperature, $T_{\\infty}=20^oC$, and the base is $T_{base}=T_{0}=100^oC$."
   ]
  },
  {
   "cell_type": "code",
   "execution_count": 1,
   "id": "dd720254",
   "metadata": {},
   "outputs": [],
   "source": [
    "import numpy as np\n",
    "import matplotlib.pyplot as plt\n",
    "plt.rcParams.update({'font.size': 22})\n",
    "plt.rcParams['lines.linewidth'] = 3"
   ]
  },
  {
   "cell_type": "code",
   "execution_count": 2,
   "id": "a0a77c3b",
   "metadata": {},
   "outputs": [],
   "source": [
    "h=100 # W/m/m/K\n",
    "k=200 # W/m/K\n",
    "R=1E-3# radius in m\n",
    "L=60E-3# length in m"
   ]
  },
  {
   "cell_type": "markdown",
   "id": "9c1a01a3",
   "metadata": {},
   "source": [
    "$\\left[\\begin{array}{cccccc}\n",
    "2.1 & -1 & 0 & 0 & 0 & 0 \\\\\n",
    "-1 & 2.1 & -1 & 0 & 0 & 0 \\\\\n",
    "0 & -1 & 2.1 & -1 & 0 & 0 \\\\\n",
    "0 & 0 & -1 & 2.1 & -1 & 0 \\\\\n",
    "0 & 0 & 0 & -1 & 2.1 & -1 \\\\\n",
    "0 & 0 & 0 & 0 & -2 & 2.105 \\\\\n",
    "\\end{array}\\right]\n",
    "\\left[\\begin{array}{c}\n",
    "T_{1}\\\\\n",
    "T_{2}\\\\\n",
    "T_{3}\\\\\n",
    "T_{4}\\\\\n",
    "T_{5}\\\\\n",
    "T_{6}\\end{array}\\right]=\n",
    "\\left[\\begin{array}{c}\n",
    "10+T_0\\\\\n",
    "10\\\\\n",
    "10\\\\\n",
    "10\\\\\n",
    "10\\\\\n",
    "10+h\\Delta x/k T_{\\infty}\\\\\n",
    "\\end{array}\\right]$"
   ]
  },
  {
   "cell_type": "code",
   "execution_count": 3,
   "id": "52a77066",
   "metadata": {},
   "outputs": [
    {
     "name": "stdout",
     "output_type": "stream",
     "text": [
      "h' = 1000.0, and step size dx= 0.01\n",
      "2.1\n",
      "finite difference A:\n",
      "------------------\n",
      "[[ 2.1   -1.     0.     0.     0.     0.   ]\n",
      " [-1.     2.1   -1.     0.     0.     0.   ]\n",
      " [ 0.    -1.     2.1   -1.     0.     0.   ]\n",
      " [ 0.     0.    -1.     2.1   -1.     0.   ]\n",
      " [ 0.     0.     0.    -1.     2.1   -1.   ]\n",
      " [ 0.     0.     0.     0.    -2.     2.105]]\n",
      "\n",
      "finite difference b:\n",
      "------------------\n",
      "[102.    2.    2.    2.    2.    2.1]\n",
      "\n",
      "finite difference solution T(x):\n",
      "------------------\n",
      "[79.5141801  64.97977822 54.94335415 48.4012655  44.6993034  43.46727164]\n",
      "\n",
      "finite difference solution at x (mm)=\n",
      "------------------\n",
      "[10. 20. 30. 40. 50. 60.]\n"
     ]
    }
   ],
   "source": [
    "hp = 2*h/k/R\n",
    "N=6\n",
    "dx=L/N\n",
    "\n",
    "print('h\\' = {}, and step size dx= {}'.format(hp,dx))\n",
    "diag_factor=2+hp*dx**2 # diagonal multiplying factor\n",
    "print(diag_factor)\n",
    "Tinfty=20\n",
    "T0 = 100\n",
    "\n",
    "A = np.diag(np.ones(N)*diag_factor)-np.diag(np.ones(N-1),-1)-np.diag(np.ones(N-1),1)\n",
    "A[-1,-2]+= -1\n",
    "A[-1,-1]+= h/k*dx\n",
    "b = np.ones(N)*hp*Tinfty*dx**2\n",
    "b[0]+=T0\n",
    "b[-1]+=h*dx/k*(Tinfty)\n",
    "print('finite difference A:\\n------------------')\n",
    "print(A)\n",
    "print('\\nfinite difference b:\\n------------------')\n",
    "print(b)\n",
    "T=np.linalg.solve(A,b)\n",
    "print('\\nfinite difference solution T(x):\\n------------------')\n",
    "print(T)\n",
    "print('\\nfinite difference solution at x (mm)=\\n------------------')\n",
    "print(np.arange(1,7)*dx*1000)"
   ]
  },
  {
   "cell_type": "markdown",
   "id": "c3bed4af",
   "metadata": {},
   "source": [
    "### Observing your set of equations\n",
    "\n",
    "The equations and solution are shown above for the finite difference set of six coupled linear equations. You solved for the solutions of temperature at $x=[10,~20,~30,~40,~50,~60]~mm$. We didn't include a solution for $x=0~mm$ because it was included in your boundary conditions. If you specified the temperature at \n",
    "$x=60~mm$, then you would exclude that point as well. \n",
    "\n",
    "When you approximate a derivative as $\\frac{df}{dx}\\approx \\frac{\\Delta f}{\\Delta x}$, what we're doing is changing a differential equation into a set of coupled equations. \n",
    "\n",
    "Below, lets compare your solution to the [analytical solution](https://en.wikipedia.org/wiki/Fin_(extended_surface)#Solutions) for a fin with the same boundary conditions\n",
    "\n",
    "$T(x)=20+80\\frac{\\cosh(s(L-x))+\\frac{h}{sk}\\sinh(s(L-x))}{\\cosh(sL)+\\frac{h}{sk}\\sinh(sL)}$"
   ]
  },
  {
   "cell_type": "code",
   "execution_count": 4,
   "id": "1fc7953b",
   "metadata": {},
   "outputs": [
    {
     "data": {
      "image/png": "[encoded data removed]",
      "text/plain": [
       "<Figure size 640x480 with 1 Axes>"
      ]
     },
     "metadata": {
      "filenames": {
       "image/png": "/home/runner/work/lec_comp_mechanics/lec_comp_mechanics/_build/jupyter_execute/module_05/02_Keep_it_steady_6_0.png"
      }
     },
     "output_type": "display_data"
    }
   ],
   "source": [
    "L=60e-3\n",
    "s=np.sqrt(hp)\n",
    "F=lambda x: 20+80*(np.cosh(s*L-s*x)+h/s/k*np.sinh(s*L-s*x))/(np.cosh(s*L)+h/s/k*np.sinh(s*L))\n",
    "x=np.arange(0,N+1)*dx\n",
    "plt.plot(x*1000,F(x),label='analytical')#a*np.cosh(s*x)+b*np.sinh(s*x))\n",
    "plt.plot(x[1:]*1000,T,'ro',label='finite difference')\n",
    "plt.plot(x[0],100,'rs',label='base temperature')\n",
    "plt.xlabel('distance along fin (mm)')\n",
    "plt.ylabel('Temperature (C)')\n",
    "plt.legend(bbox_to_anchor=(1,0.5),loc='center left');"
   ]
  },
  {
   "cell_type": "markdown",
   "id": "198ea6a5",
   "metadata": {},
   "source": [
    "### Exercise\n",
    "\n",
    "Decrease $\\Delta x$ from $10~mm$ to $5~mm$. \n",
    "\n",
    "a. Make a plot of the Temperature along the fin. \n",
    "\n",
    "b. Plot the heat flux through the fin $-\\kappa \\frac{dT}{dx}$"
   ]
  },
  {
   "cell_type": "code",
   "execution_count": null,
   "id": "1507aaf3",
   "metadata": {},
   "outputs": [],
   "source": []
  },
  {
   "cell_type": "markdown",
   "id": "bcb541c5",
   "metadata": {},
   "source": [
    "## Static beam deflections\n",
    "\n",
    "In the [Module 04 project](https://github.uconn.edu/rcc02007/CompMech04-LinearAlgebra), you solved a finite element analysis problem with stretching beams. A beam is very stiff in tension and compression, but it is usually much less stiff if bent. The [Euler-Bernoulli](https://en.wikipedia.org/wiki/Euler%E2%80%93Bernoulli_beam_theory) beam theory relates the static deflection of a beam, $w(x)$, to the bending stiffness, $EI$,  and applied load, $q$ as such\n",
    "\n",
    "$EI \\frac{d^4w}{dx^4} = q.$\n",
    "\n",
    "If $q=q(x)=constant=q_0$, then the equation can be integrated $\\times4$ to create a polynomial of order 4\n",
    "\n",
    "$w'''(x)=q_0x+A$\n",
    "\n",
    "$w''(x)=\\frac{q_0x^2}{2}+Ax+B$\n",
    "\n",
    "$w'(x)=\\frac{q_0x^3}{6}+\\frac{Ax^2}{2}+Bx+C$\n",
    "\n",
    "$w(x)=\\frac{q_0x^4}{24}+\\frac{Ax^3}{6}+\\frac{Bx^2}{2}+Cx+D$\n",
    "\n",
    "where $A,~B,~C,~and~D$ are integration constants. You have four unknowns, so you need four boundary conditions. \n",
    "\n",
    "Let's consider the [simply supported beam](https://www.efunda.com/formulae/solid_mechanics/beams/casestudy_display.cfm?case=simple_uniformload) with a uniform load. You are considering linear beam mechanics, so you have an underlying assumption that the tension in the beam is negligible. The loads and boundary constraints are shown at the top of the figure below. \n",
    "\n",
    "![Boundary conditions for 4 different beam supports](../images/beams_BCs.png)\n",
    "\n",
    "solving for A, B, C, and D there results\n",
    "\n",
    "$w(x) = -\\frac{qx\\left(L^3-2x^2L+x^3\\right)}{24EI},$\n",
    "\n",
    "but you can use the same finite difference method you used above to solve for the deflection $w(x_i)$ at different locations, $x_i$. You begin creating the numerical solution with the same process you did with the heat transfer problem, you estimate the _differential equation_ as a _finite difference_ equation and use the following material and geometry (1-m steel rod 1-cm-by-1-cm) with 100 N/m load applied\n",
    "\n",
    "* $L=1~m$\n",
    "* $E=200e9~Pa$\n",
    "* $I=\\frac{0.01^4}{12}~m^4$\n",
    "* $q=100~N/m$\n",
    "\n",
    "__Finite difference equation dividing bar length $L$ into 6 segments:__\n",
    "\n",
    "* $\\frac{d^4w}{dx^4} \\approx \\frac{w(x_{i+2})−4w(x_{i+1})+6w(x_i)−4w(x_{i-1})+w(x_{i-2})}{h^4}=\\frac{q}{EI}.$\n",
    "\n",
    "1. $w_{-1} - 4w_0 +6w_1-4w_2+w_3 =\\frac{q}{EI}h^4$\n",
    "\n",
    "2. $w_{0} - 4w_1 +6w_2-4w_3+w_4 =\\frac{q}{EI}h^4$\n",
    "\n",
    "3. $w_{1} - 4w_2 +6w_3-4w_4+w_5 =\\frac{q}{EI}h^4$\n",
    "\n",
    "4. $w_{2} - 4w_3 +6w_4-4w_5+w_6 =\\frac{q}{EI}h^4$\n",
    "\n",
    "5. $w_{3} - 4w_4 +6w_5-4w_6+w_7 =\\frac{q}{EI}h^4$\n",
    "\n",
    "__Boundary Conditions:__\n",
    "\n",
    "* $w(0)=0=w_0$\n",
    "* $w(L)=0=w_6$\n",
    "* $w''(0)=0=\\frac{w_{-1}-2w_{0}+w_{1}}{h^2} \\rightarrow w_{-1}=-w_{1}$\n",
    "* $w''(L)=0=\\frac{w_{5}-2w_{6}+w_{7}}{h^2} \\rightarrow w_{7}=-w_{5}$\n",
    "\n",
    "__Final linear equation set:__\n",
    "\n",
    "1. $5w_1-4w_2+w_3 =\\frac{q}{EI}h^4$\n",
    "\n",
    "2. $-4w_1 +6w_2-4w_3+w_4 =\\frac{q}{EI}h^4$\n",
    "\n",
    "3. $w_{1} - 4w_2 +6w_3-4w_4+w_5 =\\frac{q}{EI}h^4$\n",
    "\n",
    "4. $w_{2} - 4w_3 +6w_4-4w_5+w_6 =\\frac{q}{EI}h^4$\n",
    "\n",
    "5. $w_{3} - 4w_4 +5w_5-4w_6 =\\frac{q}{EI}h^4$\n",
    "\n",
    "$\\left[\\begin{array}{cccccc}\n",
    "5 & -4 & 1 & 0 & 0  \\\\\n",
    "-4 & 6 & -4 & 1 & 0 \\\\\n",
    "1 & -4 & 6 & -4 & 1 \\\\\n",
    "0 & 1 & -4 & 6 & -4 \\\\\n",
    "0 & 0 & 1 & -4 & 5 \n",
    "\\end{array}\\right]\n",
    "\\left[\\begin{array}{c}\n",
    "w_{1}\\\\\n",
    "w_{2}\\\\\n",
    "w_{3}\\\\\n",
    "w_{4}\\\\\n",
    "w_{5}\n",
    "\\end{array}\\right]=\n",
    "\\frac{qh^4}{EI}\\left[\\begin{array}{c}\n",
    "1\\\\\n",
    "1\\\\\n",
    "1\\\\\n",
    "1\\\\\n",
    "1\n",
    "\\end{array}\\right]$"
   ]
  },
  {
   "cell_type": "code",
   "execution_count": 5,
   "id": "a01a1815",
   "metadata": {},
   "outputs": [
    {
     "name": "stdout",
     "output_type": "stream",
     "text": [
      "finite difference A:\n",
      "------------------\n",
      "[[ 5. -4.  1.  0.  0.]\n",
      " [-4.  6. -4.  1.  0.]\n",
      " [ 1. -4.  6. -4.  1.]\n",
      " [ 0.  1. -4.  6. -4.]\n",
      " [ 0.  0.  1. -4.  5.]]\n",
      "\n",
      "finite difference b:\n",
      "------------------\n",
      "[-0.00046296 -0.00046296 -0.00046296 -0.00046296 -0.00046296]\n",
      "\n",
      "deflection of beam (mm)\n",
      "-------------\n",
      " [-4.05092593 -6.94444444 -7.98611111 -6.94444444 -4.05092593]\n",
      "at position (m) \n",
      "-------------\n",
      " [0.16666667 0.33333333 0.5        0.66666667 0.83333333]\n"
     ]
    }
   ],
   "source": [
    "L=1\n",
    "h=L/6\n",
    "E=200e9\n",
    "I=0.01**4/12\n",
    "q=100\n",
    "\n",
    "A=np.diag(np.ones(5)*6)\\\n",
    "+np.diag(np.ones(4)*-4,-1)\\\n",
    "+np.diag(np.ones(4)*-4,1)\\\n",
    "+np.diag(np.ones(3),-2)\\\n",
    "+np.diag(np.ones(3),2)\n",
    "A[0,0]+=-1\n",
    "A[-1,-1]+=-1\n",
    "\n",
    "b=-np.ones(5)*q/E/I*h**4\n",
    "\n",
    "w=np.linalg.solve(A,b)\n",
    "xnum=np.arange(0,L+h/2,h)\n",
    "print('finite difference A:\\n------------------')\n",
    "print(A)\n",
    "print('\\nfinite difference b:\\n------------------')\n",
    "print(b)\n",
    "print('\\ndeflection of beam (mm)\\n-------------\\n',w*1000)\n",
    "print('at position (m) \\n-------------\\n',xnum[1:-1])"
   ]
  },
  {
   "cell_type": "code",
   "execution_count": 6,
   "id": "9a28f8de",
   "metadata": {},
   "outputs": [
    {
     "data": {
      "text/plain": [
       "[<matplotlib.lines.Line2D at 0x7f8bd01471c0>]"
      ]
     },
     "execution_count": 6,
     "metadata": {},
     "output_type": "execute_result"
    },
    {
     "data": {
      "image/png": "[encoded data removed]",
      "text/plain": [
       "<Figure size 640x480 with 1 Axes>"
      ]
     },
     "metadata": {
      "filenames": {
       "image/png": "/home/runner/work/lec_comp_mechanics/lec_comp_mechanics/_build/jupyter_execute/module_05/02_Keep_it_steady_11_1.png"
      }
     },
     "output_type": "display_data"
    }
   ],
   "source": [
    "x=np.linspace(0,L)\n",
    "w_an=-q*x*(L**3-2*x**2*L+x**3)/24/E/I\n",
    "\n",
    "plt.plot(xnum,np.block([0,w*1000,0]),'s')\n",
    "plt.plot(x,w_an*1000)"
   ]
  },
  {
   "cell_type": "markdown",
   "id": "dc166a0b",
   "metadata": {},
   "source": [
    "### Exercise \n",
    "\n",
    "Divide the simply-supported beam into 12 sections and plot the deflection as a function of distance along the beam with a uniform load."
   ]
  },
  {
   "cell_type": "code",
   "execution_count": null,
   "id": "504df773",
   "metadata": {},
   "outputs": [],
   "source": []
  },
  {
   "cell_type": "markdown",
   "id": "4ae1feb6",
   "metadata": {},
   "source": [
    "### Discussion\n",
    "\n",
    "What is the convergence rate for this central difference method? _Hint: check the magnitude of round-off error for [central difference methods](./01_Revisiting_derivatives.ipynb)._"
   ]
  },
  {
   "cell_type": "code",
   "execution_count": null,
   "id": "a6ef4fe2",
   "metadata": {},
   "outputs": [],
   "source": []
  },
  {
   "cell_type": "markdown",
   "id": "6f04d575",
   "metadata": {},
   "source": [
    "## What You've Learned\n",
    "\n",
    "* The difference between a _PDE_ and an _ODE_\n",
    "* How to approximate differential equations with boundary conditions\n",
    "* Solve steady-state heat transfer problem\n",
    "* Solve static deflection of elastic beam\n",
    "* Demonstrate convergence of finite difference solutions"
   ]
  }
 ],
 "metadata": {
  "jupytext": {
   "formats": "notebooks//ipynb,md:myst",
   "text_representation": {
    "extension": ".md",
    "format_name": "myst",
    "format_version": 0.13,
    "jupytext_version": "1.10.3"
   }
  },
  "kernelspec": {
   "display_name": "Python 3",
   "language": "python",
   "name": "python3"
  },
  "language_info": {
   "codemirror_mode": {
    "name": "ipython",
    "version": 3
   },
   "file_extension": ".py",
   "mimetype": "text/x-python",
   "name": "python",
   "nbconvert_exporter": "python",
   "pygments_lexer": "ipython3",
   "version": "3.9.15"
  },
  "source_map": [
   13,
   85,
   92,
   97,
   123,
   149,
   162,
   173,
   183,
   185,
   275,
   302,
   308,
   314,
   316,
   322,
   324
  ]
 },
 "nbformat": 4,
 "nbformat_minor": 5
}