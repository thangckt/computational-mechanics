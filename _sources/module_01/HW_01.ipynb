{
 "cells": [
  {
   "cell_type": "markdown",
   "id": "f06071b0",
   "metadata": {},
   "source": [
    "> __Content modified under Creative Commons Attribution license CC-BY\n",
    "> 4.0, code under BSD 3-Clause License © 2020 R.C. Cooper__"
   ]
  },
  {
   "cell_type": "markdown",
   "id": "3ced605f",
   "metadata": {},
   "source": [
    "# Homework\n",
    "\n",
    "## Problems [Part 1](./01_Interacting_with_Python.md)\n",
    "\n",
    "1. Calculate some properties of a rectangular box that is 12.5\"$\\times$11\"$\\times$14\" and weighs 31 lbs\n",
    "\n",
    "    a. What is the volume of the box?\n",
    "    \n",
    "    b. What is the average density of the box?\n",
    "    \n",
    "    c. What is the result of the following logical operation, `volume>1000` (in inches^3)"
   ]
  },
  {
   "cell_type": "code",
   "execution_count": null,
   "id": "7e985f7c",
   "metadata": {},
   "outputs": [],
   "source": []
  },
  {
   "cell_type": "markdown",
   "id": "672a92b0",
   "metadata": {},
   "source": [
    "2. Use the variables given below, `str1` and `str2`, and check the following \n",
    "\n",
    "    a. `str1<str2`\n",
    "    \n",
    "    b. `str1==str2`\n",
    "    \n",
    "    c. `str1>str2`\n",
    "    \n",
    "    d. How could you force (b) to be true? [Hint](https://docs.python.org/3/library/stdtypes.html?highlight=str.lower#str.lower) or [Hint](https://docs.python.org/3/library/stdtypes.html?highlight=str.lower#str.upper)"
   ]
  },
  {
   "cell_type": "code",
   "execution_count": 1,
   "id": "8b66d466",
   "metadata": {},
   "outputs": [],
   "source": [
    "str1 = 'Python'\n",
    "str2 = 'python'"
   ]
  },
  {
   "cell_type": "markdown",
   "id": "152e1c57",
   "metadata": {},
   "source": [
    "3. The following code has an error, fix the error so that the correct result is returned:\n",
    "\n",
    "```y is 20 and x is less than y```\n",
    "\n",
    "```python\n",
    "x=\"1\"\n",
    "y=20\n",
    "\n",
    "if x<y and y==20:\n",
    "    print('y is 20 and x is less than y')\n",
    "else:\n",
    "    print('x is not less than y')\n",
    "```"
   ]
  },
  {
   "cell_type": "code",
   "execution_count": null,
   "id": "c2f1daa6",
   "metadata": {},
   "outputs": [],
   "source": []
  },
  {
   "cell_type": "markdown",
   "id": "db45d796",
   "metadata": {},
   "source": [
    "4. Create a script that takes the clock hour in 24 hours and prints the clock hour with am or pm. \n",
    "\n",
    "    Hint: Use an if-else statement with `print` commands"
   ]
  },
  {
   "cell_type": "code",
   "execution_count": 2,
   "id": "6a2bbe8a",
   "metadata": {},
   "outputs": [
    {
     "name": "stdout",
     "output_type": "stream",
     "text": [
      "10 PM\n"
     ]
    }
   ],
   "source": [
    "time = 22\n",
    "if time > 12:\n",
    "    print(time - 12, 'PM')\n",
    "elif time < 12:\n",
    "    print(time, 'AM')"
   ]
  },
  {
   "cell_type": "code",
   "execution_count": null,
   "id": "36da257a",
   "metadata": {},
   "outputs": [],
   "source": []
  },
  {
   "cell_type": "markdown",
   "id": "98f79cee",
   "metadata": {},
   "source": [
    "## Problems [Part 2](./02_Working_with_Python.md)\n",
    "\n",
    "1. Create a function called `sincos(x)` that returns two arrays, `sinx` and `cosx` that return the sine and cosine of the input array, `x`. \n",
    "\n",
    "    a. Document your function with a help file in `'''help'''`\n",
    "    \n",
    "    b. Use your function to plot sin(x) and cos(x) for x=$0..2\\pi$"
   ]
  },
  {
   "cell_type": "code",
   "execution_count": null,
   "id": "cda8fa12",
   "metadata": {},
   "outputs": [],
   "source": []
  },
  {
   "cell_type": "markdown",
   "id": "b0bbaa3d",
   "metadata": {},
   "source": [
    "2. Use a for-loop to create a variable called `A_99`, where every element is the product\n",
    "of the two indices from 0 to 9 e.g. A_99[3,2]=6 and A_99[4,4]=16. \n",
    "\n",
    "    a. time your script using `%%time`    \n",
    "    \n",
    "    b. Calculate the mean of `A_99`\n",
    "\n",
    "    c. Calculate the standard deviation of `A_99`"
   ]
  },
  {
   "cell_type": "code",
   "execution_count": null,
   "id": "fce37fcf",
   "metadata": {},
   "outputs": [],
   "source": []
  },
  {
   "cell_type": "markdown",
   "id": "7efffc86",
   "metadata": {},
   "source": [
    "3. Use the two arrays, X and Y, given below to create A_99 using numpy array math rather than a for-loop."
   ]
  },
  {
   "cell_type": "code",
   "execution_count": 3,
   "id": "b810179f",
   "metadata": {},
   "outputs": [],
   "source": [
    "import numpy as np \n",
    "\n",
    "X, Y = np.meshgrid(np.arange(10), np.arange(10))"
   ]
  },
  {
   "cell_type": "markdown",
   "id": "7db997ed",
   "metadata": {},
   "source": [
    "    a. time your script using `%%time`    \n",
    "    \n",
    "    b. Calculate the mean of `A_99`\n",
    "\n",
    "    c. Calculate the standard deviation of `A_99`\n",
    "        \n",
    "    d. create a filled contour plot of X, Y, A_99 [contourf plot documentation](https://matplotlib.org/3.1.1/api/_as_gen/matplotlib.pyplot.contourf.html)"
   ]
  },
  {
   "cell_type": "code",
   "execution_count": null,
   "id": "33572d53",
   "metadata": {},
   "outputs": [],
   "source": []
  },
  {
   "cell_type": "markdown",
   "id": "abfc8319",
   "metadata": {},
   "source": [
    "4. The following linear interpolation function has an error. It is supposed to return y(x) given the the two points $p_1=[x_1,~y_1]$ and $p_2=[x_2,~y_2]$. Currently, it just returns and error.\n",
    "\n",
    "```python\n",
    "def linInterp(x,p1,p2):\n",
    "    '''linear interplation function\n",
    "    return y(x) given the two endpoints \n",
    "    p1=np.array([x1,y1])\n",
    "    and\n",
    "    p2=np.array([x2,y2])'''\n",
    "    slope = (p2[2]-p1[2])/(p2[1]-p1[1])\n",
    "    \n",
    "    return p1[2]+slope*(x - p1[1])\n",
    "```"
   ]
  },
  {
   "cell_type": "code",
   "execution_count": null,
   "id": "d751b303",
   "metadata": {},
   "outputs": [],
   "source": []
  },
  {
   "cell_type": "markdown",
   "id": "9af0f83e",
   "metadata": {},
   "source": [
    "## Problems [Part 3](03_Numerical_error.md)\n",
    "\n",
    "1. The growth of populations of organisms has many engineering and scientific applications. One of the simplest\n",
    "models assumes that the rate of change of the population p is proportional to the existing population at any time t:\n",
    "\n",
    "$\\frac{dp}{dt} = k_g p$\n",
    "\n",
    "where $t$ is time in years, and $k_g$ is growth rate in \\[1/years\\]. \n",
    "\n",
    "The world population has been increasing dramatically, let's make a prediction based upon the [following data](https://worldpopulationhistory.org/map/2020/mercator/1/0/25/) saved in [world_population_1900-2020.csv](../data/world_population_1900-2020.csv):\n",
    "\n",
    "\n",
    "|year| world population |\n",
    "|---|---|\n",
    "|1900|1,578,000,000|\n",
    "|1950|2,526,000,000|\n",
    "|2000|6,127,000,000|\n",
    "|2020|7,795,482,000|\n",
    "\n",
    "a. Use a growth rate of $k_g=0.013$ [1/years] and compare the analytical solution (use initial condition p(1900) = 1578000000) to the Euler integration for time steps of 20 years from 1900 to 2020 (Hint: use method (1)- plot the two solutions together with the given data) \n",
    "\n",
    "b. Discussion question: If you decrease the time steps further and the solution converges, will it converge to the actual world population? Why or why not? \n",
    "\n",
    "**Note: We have used a new function `np.loadtxt` here. Use the `help` or `?` to learn about what this function does and how the arguments can change the output. In the next module, we will go into more details on how to load data, plot data, and present trends.**"
   ]
  },
  {
   "cell_type": "code",
   "execution_count": 4,
   "id": "2005791b",
   "metadata": {},
   "outputs": [
    {
     "name": "stdout",
     "output_type": "stream",
     "text": [
      "years= [1900. 1950. 2000. 2020.]\n",
      "population = [1.578000e+09 2.526000e+09 6.127000e+09 7.795482e+09]\n"
     ]
    }
   ],
   "source": [
    "import numpy as np\n",
    "year, pop = np.loadtxt('../data/world_population_1900-2020.csv',skiprows=1,delimiter=',',unpack=True)\n",
    "print('years=',year)\n",
    "print('population =', pop)"
   ]
  },
  {
   "cell_type": "code",
   "execution_count": 5,
   "id": "7ddcc7c9",
   "metadata": {},
   "outputs": [
    {
     "name": "stdout",
     "output_type": "stream",
     "text": [
      "average population changes 1900-1950, 1950-2000, 2000-2020\n",
      "[18960000. 72020000. 83424100.]\n",
      "average growth of 1900 - 2020\n",
      "58134700.0\n"
     ]
    }
   ],
   "source": [
    "print('average population changes 1900-1950, 1950-2000, 2000-2020')\n",
    "print((pop[1:] - pop[0:-1])/(year[1:] - year[0:-1]))\n",
    "print('average growth of 1900 - 2020')\n",
    "print(np.mean((pop[1:] - pop[0:-1])/(year[1:] - year[0:-1])))"
   ]
  },
  {
   "cell_type": "markdown",
   "id": "afcc9060",
   "metadata": {},
   "source": [
    "__d.__ As the number of time steps increases, the Euler approximation approaches the analytical solution, not the measured data. The best-case scenario is that the Euler solution is the same as the analytical solution."
   ]
  },
  {
   "cell_type": "markdown",
   "id": "5a5f863e",
   "metadata": {},
   "source": [
    "2. In the freefall example you used smaller time steps to decrease the **truncation error** in our Euler approximation. Another way to decrease approximation error is to continue expanding the Taylor series. Consider the function f(x)\n",
    "\n",
    "    $f(x)=e^x = 1+x+\\frac{x^2}{2!}+\\frac{x^3}{3!}+\\frac{x^4}{4!}+...$\n",
    "\n",
    "    We can approximate $e^x$ as $1+x$ (first order), $1+x+x^2/2$ (second order), and so on each higher order results in smaller error. \n",
    "    \n",
    "    a. Use the given `exptaylor` function to approximate the value of exp(1) with a second-order Taylor series expansion. What is the relative error compared to `np.exp(1)`?\n",
    "    \n",
    "    b. Time the solution for a second-order Taylor series and a tenth-order Taylor series. How long would a 100,000-order series take (approximate this, you don't have to run it)\n",
    "    \n",
    "    c. Plot the relative error as a function of the Taylor series expansion order from first order upwards. (Hint: use method (4) in the comparison methods from the \"Truncation and roundoff error accumulation in log-log plot\" figure)"
   ]
  },
  {
   "cell_type": "code",
   "execution_count": 6,
   "id": "0fee2e9c",
   "metadata": {},
   "outputs": [],
   "source": [
    "from math import factorial\n",
    "def exptaylor(x,n):\n",
    "    '''Taylor series expansion about x=0 for the function e^x\n",
    "    the full expansion follows the function\n",
    "    e^x = 1+ x + x**2/2! + x**3/3! + x**4/4! + x**5/5! +...'''\n",
    "    if n<1:\n",
    "        print('lowest order expansion is 0 where e^x = 1')\n",
    "        return 1\n",
    "    else:\n",
    "        ex = 1+x # define the first-order taylor series result\n",
    "        for i in range(1,n):\n",
    "            ex+=x**(i+1)/factorial(i+1) # add the nth-order result for each step in loop\n",
    "        return ex\n",
    "        "
   ]
  }
 ],
 "metadata": {
  "jupytext": {
   "formats": "notebooks//ipynb,md:myst",
   "text_representation": {
    "extension": ".md",
    "format_name": "myst",
    "format_version": 0.13,
    "jupytext_version": "1.10.3"
   }
  },
  "kernelspec": {
   "display_name": "Python 3 (ipykernel)",
   "language": "python",
   "name": "python3"
  },
  "language_info": {
   "codemirror_mode": {
    "name": "ipython",
    "version": 3
   },
   "file_extension": ".py",
   "mimetype": "text/x-python",
   "name": "python",
   "nbconvert_exporter": "python",
   "pygments_lexer": "ipython3",
   "version": "3.9.15"
  },
  "source_map": [
   13,
   18,
   32,
   34,
   46,
   49,
   65,
   67,
   73,
   81,
   83,
   93,
   95,
   106,
   108,
   112,
   116,
   126,
   128,
   144,
   146,
   173,
   180,
   185,
   189,
   203
  ]
 },
 "nbformat": 4,
 "nbformat_minor": 5
}